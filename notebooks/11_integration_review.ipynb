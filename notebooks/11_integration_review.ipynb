{
 "cells": [
  {
   "cell_type": "markdown",
   "metadata": {},
   "source": [
    "# Integration Review\n",
    "\n",
    "**Know and be able to**:\n",
    "\n",
    "- Use summation formulas to evaluate finite sums\n",
    "- Recognize patterns in infinite sums using partial sums\n",
    "- Use summations to determine the *mean, variance,* and *standard deviation* of data\n",
    "- Use Riemann sums to approximate area under a curve and between curves\n",
    "- Understand and use the definition of the definite integral\n",
    "- Use definite integral to find area beneath a curve, area between curves, and to find the volume of solids of revolution\n",
    "- Understand and Use the **Net Change Theorem**\n",
    "- Use the Definite Integral to determine the Gini Index given information on wealth distribution"
   ]
  },
  {
   "cell_type": "code",
   "execution_count": null,
   "metadata": {},
   "outputs": [],
   "source": []
  }
 ],
 "metadata": {
  "kernelspec": {
   "display_name": "Python 3",
   "language": "python",
   "name": "python3"
  },
  "language_info": {
   "codemirror_mode": {
    "name": "ipython",
    "version": 3
   },
   "file_extension": ".py",
   "mimetype": "text/x-python",
   "name": "python",
   "nbconvert_exporter": "python",
   "pygments_lexer": "ipython3",
   "version": "3.7.4"
  }
 },
 "nbformat": 4,
 "nbformat_minor": 4
}
