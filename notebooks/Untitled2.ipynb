{
 "cells": [
  {
   "cell_type": "markdown",
   "metadata": {},
   "source": [
    "# Homework 3"
   ]
  },
  {
   "cell_type": "markdown",
   "metadata": {},
   "source": [
    "1. Use our formulas from class to evaluate the following sums:\n",
    "\n",
    "  1. $$\\sum_{i = 1}^{20} 100(i^2 - 5i + 1)$$\n",
    "  \n",
    "  2. $$\\sum_{i = 1}^{50} (i^2 - 10i)$$"
   ]
  },
  {
   "cell_type": "markdown",
   "metadata": {},
   "source": [
    "2. Use Riemann sums to approximate the area under the curve for the given function on given interval:\n",
    "\n",
    "   1. $n = 4$ for $f(x) = \\frac{1}{x-1}$ on $[2, 4]$\n",
    "   \n",
    "   2. $n = 4$ for $f(x) = \\cos(\\pi x)$ on $[0, 2\\pi]$.\n",
    "   \n",
    "   3. $n = 8$ for $f(x) = x^2 - 2x + 1$ on $[0, 2]$."
   ]
  },
  {
   "cell_type": "code",
   "execution_count": null,
   "metadata": {},
   "outputs": [],
   "source": []
  }
 ],
 "metadata": {
  "kernelspec": {
   "display_name": "Python 3",
   "language": "python",
   "name": "python3"
  },
  "language_info": {
   "codemirror_mode": {
    "name": "ipython",
    "version": 3
   },
   "file_extension": ".py",
   "mimetype": "text/x-python",
   "name": "python",
   "nbconvert_exporter": "python",
   "pygments_lexer": "ipython3",
   "version": "3.7.4"
  }
 },
 "nbformat": 4,
 "nbformat_minor": 4
}
