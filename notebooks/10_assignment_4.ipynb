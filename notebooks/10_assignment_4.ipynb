{
 "cells": [
  {
   "cell_type": "markdown",
   "metadata": {},
   "source": [
    "# Review\n",
    "\n",
    "- Summations\n",
    "\n",
    "- Stats\n",
    "\n",
    "- RMSE!\n",
    "\n",
    "- Area under curve\n",
    "\n",
    "- Area between curves\n",
    "\n",
    "- Volumes\n",
    "\n",
    "- Gini and RMSE\n",
    "\n",
    "- Work\n",
    "\n",
    "- Accumulation"
   ]
  }
 ],
 "metadata": {
  "kernelspec": {
   "display_name": "Python 3",
   "language": "python",
   "name": "python3"
  },
  "language_info": {
   "codemirror_mode": {
    "name": "ipython",
    "version": 3
   },
   "file_extension": ".py",
   "mimetype": "text/x-python",
   "name": "python",
   "nbconvert_exporter": "python",
   "pygments_lexer": "ipython3",
   "version": "3.7.4"
  }
 },
 "nbformat": 4,
 "nbformat_minor": 4
}
