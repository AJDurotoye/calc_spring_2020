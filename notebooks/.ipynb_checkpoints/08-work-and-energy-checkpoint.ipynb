{
 "cells": [
  {
   "cell_type": "markdown",
   "metadata": {},
   "source": [
    "# Warm Up\n",
    "\n",
    "![](images/calc_2014_volume.png)"
   ]
  },
  {
   "cell_type": "code",
   "execution_count": 1,
   "metadata": {},
   "outputs": [],
   "source": [
    "%matplotlib inline\n",
    "import matplotlib.pyplot as plt\n",
    "import numpy as np\n",
    "import sympy as sy"
   ]
  },
  {
   "cell_type": "code",
   "execution_count": 8,
   "metadata": {},
   "outputs": [],
   "source": [
    "x = sy.Symbol('x')\n",
    "def g(x): return -2+3*sy.cos(sy.pi/2*x)\n",
    "def h(x): return 6 - 2 *(x - 1)**2"
   ]
  },
  {
   "cell_type": "code",
   "execution_count": 9,
   "metadata": {},
   "outputs": [
    {
     "data": {
      "text/latex": [
       "$\\displaystyle \\frac{44}{3}$"
      ],
      "text/plain": [
       "44/3"
      ]
     },
     "execution_count": 9,
     "metadata": {},
     "output_type": "execute_result"
    }
   ],
   "source": [
    "sy.integrate(h(x) - g(x), (x, 0, 2))"
   ]
  },
  {
   "cell_type": "code",
   "execution_count": 10,
   "metadata": {},
   "outputs": [
    {
     "data": {
      "text/latex": [
       "$\\displaystyle \\frac{677}{5}$"
      ],
      "text/plain": [
       "677/5"
      ]
     },
     "execution_count": 10,
     "metadata": {},
     "output_type": "execute_result"
    }
   ],
   "source": [
    "R_squared = (6 - g(x))**2\n",
    "r_squared = (6 - h(x))**2\n",
    "sy.integrate(R_squared - r_squared, (x, 0, 2))"
   ]
  },
  {
   "cell_type": "code",
   "execution_count": 12,
   "metadata": {},
   "outputs": [
    {
     "data": {
      "text/plain": [
       "425.37164529605803"
      ]
     },
     "execution_count": 12,
     "metadata": {},
     "output_type": "execute_result"
    }
   ],
   "source": [
    "677/5*np.pi"
   ]
  },
  {
   "cell_type": "code",
   "execution_count": null,
   "metadata": {},
   "outputs": [],
   "source": []
  },
  {
   "cell_type": "markdown",
   "metadata": {},
   "source": [
    "### Scoring\n",
    "\n",
    "![](images/calc_2014_volume_soln.png)"
   ]
  },
  {
   "cell_type": "markdown",
   "metadata": {},
   "source": [
    "### Work\n",
    "\n",
    "$$W = F \\times D$$\n",
    "\n",
    "<div class=\"alert alert-info\">\n",
    "  <strong>Example</strong> <br>How much work is required to lift a 2-kg stone 3 meters above the ground if gravity pulls down on stone with force $-mg$ where $g = 9.8 m/s^2$.\n",
    "</div>"
   ]
  },
  {
   "cell_type": "markdown",
   "metadata": {},
   "source": [
    "$$W = (mg)h = 2 * 9.8 * 3 = 58.8 $$"
   ]
  },
  {
   "cell_type": "markdown",
   "metadata": {},
   "source": [
    "### More Generally\n",
    "\n",
    "![](images/pushing_rocks.png)\n",
    "\n",
    "$$W = \\sum_{i = 1}^N W_i \\approx \\sum_{i = 1}^N F(x_i)\\Delta x$$"
   ]
  },
  {
   "cell_type": "markdown",
   "metadata": {},
   "source": [
    "<div class=\"alert alert-warning\">\n",
    "    <strong><font color = 'black'>Definition: WORK<\\font></strong><br> <hr>The work performed in moving an object along the $x$-axis from $a$ to $b$ by applying a force of magnitude $F(x)$ is:\n",
    "        \n",
    "$$W = \\int_a^b F(x) dx$$\n",
    "</div>"
   ]
  },
  {
   "cell_type": "markdown",
   "metadata": {},
   "source": [
    "### Example 1: Hooke's Law\n",
    "\n",
    "Assuming a spring constant of $k = 400 N/m$, find the work required to:\n",
    "\n",
    "a. Stretch spring 10cm beyond equilibrium.\n",
    "b. Compress the spring 2cm more when it is already compressed 3 cm.\n"
   ]
  },
  {
   "cell_type": "markdown",
   "metadata": {},
   "source": [
    "a. $W = \\int_0^{0.1} 400x dx = 200x^2 \\rvert_{0}^{0.1} = 2 J$\n",
    "\n",
    "b. $W = \\int_{-0.03}^{-0.05} 400x dx = 200x^2\\rvert_{-0.03}^{-0.05} = 0.5 - 0.18 = 0.32 J$"
   ]
  },
  {
   "cell_type": "markdown",
   "metadata": {},
   "source": [
    "### Example 2: Concrete Column\n",
    "\n",
    "![](images/column.png)\n",
    "\n",
    "Compute the work (against gravity) required to build a concrete column of height 5 m and square base of side 2 m. Assume that\n",
    "concrete has density 1500 $kg/m^3$."
   ]
  },
  {
   "cell_type": "markdown",
   "metadata": {},
   "source": [
    "- Volume of layer: area $\\times$ width = $4 \\Delta ym^3$\n",
    "\n"
   ]
  },
  {
   "cell_type": "markdown",
   "metadata": {},
   "source": [
    "- Mass of layer: density $\\times$ volume = $1500 \\times 4 \\Delta y kg$"
   ]
  },
  {
   "cell_type": "markdown",
   "metadata": {},
   "source": [
    "- Force on layer: $g \\times$ mass = $9.8 \\times 1500 \\times 4 \\Delta y = 58,800 \\Delta y N$"
   ]
  },
  {
   "cell_type": "markdown",
   "metadata": {},
   "source": [
    "Work lifting layer to height $y \\approx (58,800 \\Delta y) y = L(y)\\Delta y $"
   ]
  },
  {
   "cell_type": "markdown",
   "metadata": {},
   "source": [
    "$$W = \\sum_{i = 1}^n L(y_i) \\Delta y$$"
   ]
  },
  {
   "cell_type": "markdown",
   "metadata": {},
   "source": [
    "$$ W = \\int_0^5 L(y)dy = \\int_0^5 58,800y dy$$"
   ]
  },
  {
   "cell_type": "markdown",
   "metadata": {},
   "source": [
    "### Problems\n",
    "\n",
    "1. How much work is done raising a 4kg mass to a height of 16m above ground?\n",
    "\n",
    "2. How much work is doen raising a 4-lb mass to a height of 16ft above ground?\n",
    "\n",
    "Assume a spring constant $k = 800 N/m$.\n",
    "\n",
    "3. Force to stretch spring from equilibrium to 12 cm past equilibrium.\n",
    "\n",
    "4. Stretch from 5 cm to 15 cm past equilibrium.\n",
    "\n"
   ]
  }
 ],
 "metadata": {
  "kernelspec": {
   "display_name": "Python 3",
   "language": "python",
   "name": "python3"
  },
  "language_info": {
   "codemirror_mode": {
    "name": "ipython",
    "version": 3
   },
   "file_extension": ".py",
   "mimetype": "text/x-python",
   "name": "python",
   "nbconvert_exporter": "python",
   "pygments_lexer": "ipython3",
   "version": "3.7.3"
  }
 },
 "nbformat": 4,
 "nbformat_minor": 4
}
