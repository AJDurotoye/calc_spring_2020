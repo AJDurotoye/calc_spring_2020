{
 "cells": [
  {
   "cell_type": "code",
   "execution_count": 2,
   "metadata": {},
   "outputs": [],
   "source": [
    "%matplotlib inline\n",
    "import matplotlib.pyplot as plt\n",
    "import numpy as np\n",
    "import pandas as pd\n",
    "import seaborn as sns"
   ]
  },
  {
   "cell_type": "markdown",
   "metadata": {},
   "source": [
    "1. Find the area of the region bounded by the curves:\n",
    "\n",
    "- $y = x^2 \\quad \\text{and} \\quad y = 4x - x^2$\n",
    "- $y = \\frac{1}{x}, y = x^2, y = 0, x = e$"
   ]
  },
  {
   "cell_type": "markdown",
   "metadata": {},
   "source": [
    "2. Find the volume of the solid formed in the first quadrant by the line $y = 2\\sqrt{x}$ and the line $y = 6$.\n",
    "- Draw a plot of the region\n",
    "- Find the area of the region\n",
    "- Write but do not evaluate an expression for the volume of the solid formed by rotating the region about the $x$-axis."
   ]
  },
  {
   "cell_type": "markdown",
   "metadata": {},
   "source": [
    "3. Find a Riemann sum using 4 rectangles for the given function on the said interval.\n",
    "\n",
    "- $y = 3x^2 - 2x + 1$ on $[-1,1]$\n",
    "- $y = x^2\\sin(x)$ on $[0, \\pi]$"
   ]
  },
  {
   "cell_type": "markdown",
   "metadata": {},
   "source": [
    "4. For the following exercise, consider the stock market crash in 1929 in the United States. The table lists the Dow Jones industrial average per year leading up to the crash.\n",
    "\n",
    "|Years after 1920 |Value ($)|\n",
    "| ----------   | --------- |\n",
    "|1  |63.90| \n",
    "|3  |100 |\n",
    "|5  |110 |\n",
    "|7  |160 |\n",
    "|9  |381.17|\n",
    "\n",
    "- What was the average value of the stock?\n",
    "- The variance?\n",
    "- Standard Deviation?"
   ]
  },
  {
   "cell_type": "markdown",
   "metadata": {},
   "source": [
    "5. The image below represents the height of rectangles in 3D.  Use the heights to determine the volume of the solid.\n",
    "\n",
    "<center>\n",
    "    <img src = images/3d_rects.png />\n",
    "</center>"
   ]
  },
  {
   "cell_type": "markdown",
   "metadata": {},
   "source": [
    "6. Toss 6 coins.  Enumerate how many ways all outcomes of this could occur.  What is the probability of getting at least 4 heads?"
   ]
  }
 ],
 "metadata": {
  "kernelspec": {
   "display_name": "Python 3",
   "language": "python",
   "name": "python3"
  },
  "language_info": {
   "codemirror_mode": {
    "name": "ipython",
    "version": 3
   },
   "file_extension": ".py",
   "mimetype": "text/x-python",
   "name": "python",
   "nbconvert_exporter": "python",
   "pygments_lexer": "ipython3",
   "version": "3.7.4"
  }
 },
 "nbformat": 4,
 "nbformat_minor": 4
}
