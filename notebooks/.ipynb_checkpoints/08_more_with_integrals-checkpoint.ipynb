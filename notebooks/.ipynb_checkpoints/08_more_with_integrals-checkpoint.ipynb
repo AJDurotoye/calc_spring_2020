{
 "cells": [
  {
   "cell_type": "markdown",
   "metadata": {},
   "source": [
    "# More with the Definite Integral\n",
    "\n",
    "$$\\int_a^b f(x) dx = \\lim_{n \\to \\infty}\\sum_{i = 1}^n f(x_i^*) \\Delta x$$"
   ]
  },
  {
   "cell_type": "markdown",
   "metadata": {},
   "source": [
    "**WARM UP**\n",
    "\n",
    "1. Evaluate the following definite integral.  Interpret the integral as an area, and describe the region with a graph.\n",
    "\n",
    "$$\\int_{0} ^4 8x^3 - x^2 dx$$\n",
    "\n",
    "2. Suppose the function $8x^3 - x^2$ represents the velocity of a car in miles per hour at a time $x$.  Interpret the integral: $\\int_{0} ^4 8x^3 - x^2 dx$\n",
    "\n",
    "3. Suppose the function $8x^3 - x^2$ represents the rate at which water flows through a canal in ft$^3$.  Interpret the integral: $\\int_{0} ^4 8x^3 - x^2 dx$."
   ]
  },
  {
   "cell_type": "code",
   "execution_count": 1,
   "metadata": {},
   "outputs": [],
   "source": [
    "%matplotlib inline\n",
    "import matplotlib.pyplot as plt\n",
    "import numpy as np\n",
    "import pandas as pd"
   ]
  },
  {
   "cell_type": "markdown",
   "metadata": {},
   "source": [
    "### More Rules of Integrals\n",
    "\n",
    "<table style=\"background-color: #f1f1c1\" >\n",
    "<tr>\n",
    "   <td>$\\displaystyle \\int x^n dx = \\frac{x^{n+1}}{n+1} + C$</td>\n",
    "   <td>$\\displaystyle \\int e^{ax} dx = \\frac{1}{a} e^{ax} + C$</td>\n",
    "    <td>$\\displaystyle \\int \\ln(x)dx = x\\ln(x) - x + C$</td>\n",
    " </tr>\n",
    "<tr>\n",
    "    <td>$\\displaystyle \\int \\sin(x) dx = -\\cos(x) + C$</td>\n",
    "    <td>$\\displaystyle \\int \\cos(x) dx = \\sin(x) + C$</td>\n",
    "    <td>$\\displaystyle \\int a^x dx = \\frac{a^x}{\\ln a} + C$</td>\n",
    "    </tr>"
   ]
  },
  {
   "cell_type": "markdown",
   "metadata": {},
   "source": [
    "Your goal is to identify the appropriate rule to use for evaluating the given integral and then try to evaluate given definite integral.  Plot the results and interpret the answer as an area under the curve.\n",
    "\n",
    "1. $\\displaystyle \\int_0^{3\\pi} \\sin(x) dx$\n",
    "\n",
    "2. $\\displaystyle \\int_0^4 \\cos(x) + x^2 dx$\n",
    "\n",
    "3. $\\displaystyle \\int_1^{10} \\ln(x) - 2^x + 4$"
   ]
  },
  {
   "cell_type": "code",
   "execution_count": null,
   "metadata": {},
   "outputs": [],
   "source": []
  },
  {
   "cell_type": "code",
   "execution_count": null,
   "metadata": {},
   "outputs": [],
   "source": []
  },
  {
   "cell_type": "code",
   "execution_count": null,
   "metadata": {},
   "outputs": [],
   "source": []
  },
  {
   "cell_type": "code",
   "execution_count": null,
   "metadata": {},
   "outputs": [],
   "source": []
  },
  {
   "cell_type": "markdown",
   "metadata": {},
   "source": [
    "### Computing Solutions\n",
    "\n",
    "We can use our computer to evaluate definite integrals.  Consider the definite integral:\n",
    "\n",
    "$$\\int_0^4 x^2 dx$$"
   ]
  },
  {
   "cell_type": "code",
   "execution_count": 26,
   "metadata": {},
   "outputs": [],
   "source": [
    "import scipy.integrate as integrate"
   ]
  },
  {
   "cell_type": "code",
   "execution_count": 27,
   "metadata": {},
   "outputs": [],
   "source": [
    "x = np.linspace(0, 4, 1000)\n",
    "def f(x): return x**2"
   ]
  },
  {
   "cell_type": "code",
   "execution_count": 29,
   "metadata": {},
   "outputs": [
    {
     "data": {
      "text/plain": [
       "(21.333333333333336, 2.368475785867001e-13)"
      ]
     },
     "execution_count": 29,
     "metadata": {},
     "output_type": "execute_result"
    }
   ],
   "source": [
    "integrate.quad(f, 0, 4)"
   ]
  },
  {
   "cell_type": "code",
   "execution_count": 30,
   "metadata": {},
   "outputs": [],
   "source": [
    "def f(x): return np.sin(x)"
   ]
  },
  {
   "cell_type": "code",
   "execution_count": 32,
   "metadata": {},
   "outputs": [
    {
     "data": {
      "text/plain": [
       "(2.221501482512777e-16, 4.3998892617845996e-14)"
      ]
     },
     "execution_count": 32,
     "metadata": {},
     "output_type": "execute_result"
    }
   ],
   "source": [
    "integrate.quad(f, 0, 2*np.pi)"
   ]
  },
  {
   "cell_type": "markdown",
   "metadata": {},
   "source": [
    "### Pure Symbolic Computing\n",
    "\n",
    "This is the other side of the coin from using something like a Riemann sum, and we are dealing with symbols as opposed to numbers here.  Accordingly, we introduce the symbolic representations using the library `SymPy` that is used for symbolic computing in Python.  "
   ]
  },
  {
   "cell_type": "code",
   "execution_count": 33,
   "metadata": {},
   "outputs": [],
   "source": [
    "import sympy as sy"
   ]
  },
  {
   "cell_type": "code",
   "execution_count": 34,
   "metadata": {},
   "outputs": [],
   "source": [
    "#define the symbol\n",
    "x = sy.Symbol('x')"
   ]
  },
  {
   "cell_type": "code",
   "execution_count": 35,
   "metadata": {},
   "outputs": [],
   "source": [
    "#define the function\n",
    "def f(x): return x**2"
   ]
  },
  {
   "cell_type": "code",
   "execution_count": 36,
   "metadata": {},
   "outputs": [
    {
     "data": {
      "text/latex": [
       "$\\displaystyle \\frac{64}{3}$"
      ],
      "text/plain": [
       "64/3"
      ]
     },
     "execution_count": 36,
     "metadata": {},
     "output_type": "execute_result"
    }
   ],
   "source": [
    "#evaluate the integral \n",
    "#format is (function, (with respect to, start, stop))\n",
    "sy.integrate(f(x), (x, 0, 4))"
   ]
  },
  {
   "cell_type": "markdown",
   "metadata": {},
   "source": [
    "$$\\int_2^5 x^3 - \\cos(x) + \\ln(x) - e^{4x}$$"
   ]
  },
  {
   "cell_type": "code",
   "execution_count": 37,
   "metadata": {},
   "outputs": [],
   "source": [
    "##similar to with numbers(NumPy)\n",
    "def f(x): return x**3 - sy.cos(x) + sy.log(x) + sy.exp(4*x)"
   ]
  },
  {
   "cell_type": "code",
   "execution_count": 38,
   "metadata": {},
   "outputs": [
    {
     "data": {
      "text/latex": [
       "$\\displaystyle - \\frac{e^{8}}{4} - 2 \\log{\\left(2 \\right)} + \\sin{\\left(2 \\right)} - \\sin{\\left(5 \\right)} + 5 \\log{\\left(5 \\right)} + \\frac{597}{4} + \\frac{e^{20}}{4}$"
      ],
      "text/plain": [
       "-exp(8)/4 - 2*log(2) + sin(2) - sin(5) + 5*log(5) + 597/4 + exp(20)/4"
      ]
     },
     "execution_count": 38,
     "metadata": {},
     "output_type": "execute_result"
    }
   ],
   "source": [
    "sy.integrate(f(x), (x, 2, 5))"
   ]
  },
  {
   "cell_type": "markdown",
   "metadata": {},
   "source": [
    "### Application I: Area Between Curves\n",
    "\n",
    "Consider the functions $f(x) = x^2$ and $g(x) = \\sqrt{x}$.  How might we compute the area between the curves?\n",
    "\n",
    "<center>\n",
    "    <img src = 'images/p8e1.png' />\n",
    "    </center>"
   ]
  },
  {
   "cell_type": "markdown",
   "metadata": {},
   "source": [
    "### A Creative Exercise\n",
    "\n",
    "Definite Integral Art: Determining a beautiful region and its area."
   ]
  },
  {
   "cell_type": "code",
   "execution_count": 103,
   "metadata": {},
   "outputs": [],
   "source": [
    "from ipywidgets import interact\n",
    "import ipywidgets as widgets\n",
    "def fun_plotter(a, b, c, d, e):\n",
    "    def f(x): return a*x**2 + b*np.sin(c*x - d*x**2) + e\n",
    "    def g(x): return a*x**2 - b*np.sin(c*x - d*x**2) - e\n",
    "    x = np.linspace(-2, 2, 1000)\n",
    "    plt.figure(figsize = (15, 6))\n",
    "    plt.plot(x, f(x), color = 'black')\n",
    "    plt.plot(x, g(x), color = 'black')\n",
    "    plt.fill_between(x, f(x), g(x), where = (f(x) > g(x)), color = 'green', alpha = 0.4)"
   ]
  },
  {
   "cell_type": "code",
   "execution_count": 106,
   "metadata": {},
   "outputs": [
    {
     "data": {
      "application/vnd.jupyter.widget-view+json": {
       "model_id": "9173421881914096abebf2943c4d1703",
       "version_major": 2,
       "version_minor": 0
      },
      "text/plain": [
       "interactive(children=(IntSlider(value=1, description='a', max=3, min=-3), IntSlider(value=1, description='b', …"
      ]
     },
     "metadata": {},
     "output_type": "display_data"
    }
   ],
   "source": [
    "interact(fun_plotter, \n",
    "        a = widgets.IntSlider(1, min = -3, max = 3),\n",
    "        b = widgets.IntSlider(1, min = -3, max = 3),\n",
    "        c = widgets.IntSlider(1, min = -3, max = 3),\n",
    "        d = widgets.IntSlider(1, min = -3, max = 3),\n",
    "        e = widgets.IntSlider(1, min = -3, max = 3));"
   ]
  },
  {
   "cell_type": "code",
   "execution_count": 105,
   "metadata": {},
   "outputs": [],
   "source": [
    "# x = np.linspace(0, 1, 100)\n",
    "# def f(x): return x**2\n",
    "# def g(x): return np.sqrt(x)\n",
    "\n",
    "# fig, ax = plt.subplots(nrows = 1, ncols = 3, figsize = (16, 6))\n",
    "# ax[0].plot(x, f(x), color = 'black')\n",
    "# ax[0].fill_between(x, f(x), color = 'orange', alpha = 0.6)\n",
    "# ax[0].set_title('$f(x) = x^2$')\n",
    "\n",
    "# ax[1].plot(x, g(x), color = 'black')\n",
    "# ax[1].fill_between(x, g(x), color = 'green', alpha = 0.5)\n",
    "# ax[1].set_title('$g(x) = \\sqrt{x}$')\n",
    "\n",
    "# ax[2].plot(x, g(x), color = 'black', label = '$g(x)$')\n",
    "# ax[2].plot(x, f(x), linestyle = '--', color = 'black', label = '$f(x)$')\n",
    "# ax[2].fill_between(x, f(x), g(x), color = 'yellow', alpha = 0.6)\n",
    "# ax[2].fill_between(x, f(x), color = 'lightblue', alpha = 0.5)\n",
    "# ax[2].legend()\n",
    "# plt.savefig('images/p8e1.png')"
   ]
  }
 ],
 "metadata": {
  "kernelspec": {
   "display_name": "Python 3",
   "language": "python",
   "name": "python3"
  },
  "language_info": {
   "codemirror_mode": {
    "name": "ipython",
    "version": 3
   },
   "file_extension": ".py",
   "mimetype": "text/x-python",
   "name": "python",
   "nbconvert_exporter": "python",
   "pygments_lexer": "ipython3",
   "version": "3.7.4"
  }
 },
 "nbformat": 4,
 "nbformat_minor": 4
}
